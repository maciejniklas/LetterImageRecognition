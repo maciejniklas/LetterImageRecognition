{
 "cells": [
  {
   "cell_type": "markdown",
   "metadata": {},
   "source": [
    "# Letter Image Recognition\n",
    "\n",
    "## Source Information:\n",
    "\n",
    "- Creator: David J. Slate\n",
    "- Odesta Corporation; 1890 Maple Ave; Suite 115; Evanston, IL 60201\n",
    "- Donor: David J. Slate (dave@math.nwu.edu) (708) 491-3867   \n",
    "- Date: January, 1991\n",
    "\n",
    "## Relevant Information:\n",
    "\n",
    "The objective is to identify each of a large number of black-and-white rectangular pixel displays as one of the 26 capital letters in the English alphabet. The character images were based on 20 different fonts and each letter within these 20 fonts was randomly distorted to produce a file of 20,000 unique stimuli.  Each stimulus was converted into 16 primitive numerical attributes (statistical moments and edge counts) which were then scaled to fit into a range of integer values from 0 through 15.  We typically train on the first 16000 items and then use the resulting model to predict the letter category for the remaining 4000.  See the article cited above for more details.\n",
    "\n",
    "## Number of Instances: \n",
    "\n",
    "20000\n",
    "\n",
    "## Number of Attributes: \n",
    "\n",
    "17 (Letter category and 16 numeric features)\n",
    "\n",
    "## Attribute Information:\n",
    "\n",
    "\t 1.\tlettr\tcapital letter\t(26 values from A to Z)\n",
    "\t 2.\tx-box\thorizontal position of box\t(integer)\n",
    "\t 3.\ty-box\tvertical position of box\t(integer)\n",
    "\t 4.\twidth\twidth of box\t\t\t(integer)\n",
    "\t 5.\thigh \theight of box\t\t\t(integer)\n",
    "\t 6.\tonpix\ttotal # on pixels\t\t(integer)\n",
    "\t 7.\tx-bar\tmean x of on pixels in box\t(integer)\n",
    "\t 8.\ty-bar\tmean y of on pixels in box\t(integer)\n",
    "\t 9.\tx2bar\tmean x variance\t\t\t(integer)\n",
    "\t10.\ty2bar\tmean y variance\t\t\t(integer)\n",
    "\t11.\txybar\tmean x y correlation\t\t(integer)\n",
    "\t12.\tx2ybr\tmean of x * x * y\t\t(integer)\n",
    "\t13.\txy2br\tmean of x * y * y\t\t(integer)\n",
    "\t14.\tx-ege\tmean edge count left to right\t(integer)\n",
    "\t15.\txegvy\tcorrelation of x-ege with y\t(integer)\n",
    "\t16.\ty-ege\tmean edge count bottom to top\t(integer)\n",
    "\t17.\tyegvx\tcorrelation of y-ege with x\t(integer)\n",
    "\n",
    "## Missing Attribute Values: \n",
    "\n",
    "None\n",
    "\n",
    "## Class Distribution:\n",
    "\n",
    " \t789 A\t   766 B     736 C     805 D\t 768 E\t   775 F     773 G\n",
    " \t734 H\t   755 I     747 J     739 K\t 761 L\t   792 M     783 N\n",
    " \t753 O\t   803 P     783 Q     758 R\t 748 S\t   796 T     813 U\n",
    " \t764 V\t   752 W     787 X     786 Y\t 734 Z\n"
   ]
  },
  {
   "cell_type": "code",
   "execution_count": 1,
   "metadata": {},
   "outputs": [],
   "source": [
    "# Import all necessary dependencies\n",
    "import numpy as np\n",
    "import pandas as pd\n",
    "import matplotlib.pyplot as plt\n",
    "import seaborn as sns\n",
    "import sklearn"
   ]
  },
  {
   "cell_type": "markdown",
   "metadata": {},
   "source": [
    "### Data preparation"
   ]
  },
  {
   "cell_type": "code",
   "execution_count": 2,
   "metadata": {
    "scrolled": true
   },
   "outputs": [
    {
     "data": {
      "text/html": [
       "<div>\n",
       "<style scoped>\n",
       "    .dataframe tbody tr th:only-of-type {\n",
       "        vertical-align: middle;\n",
       "    }\n",
       "\n",
       "    .dataframe tbody tr th {\n",
       "        vertical-align: top;\n",
       "    }\n",
       "\n",
       "    .dataframe thead th {\n",
       "        text-align: right;\n",
       "    }\n",
       "</style>\n",
       "<table border=\"1\" class=\"dataframe\">\n",
       "  <thead>\n",
       "    <tr style=\"text-align: right;\">\n",
       "      <th></th>\n",
       "      <th>letter</th>\n",
       "      <th>x-box</th>\n",
       "      <th>y-box</th>\n",
       "      <th>width</th>\n",
       "      <th>high</th>\n",
       "      <th>onpix</th>\n",
       "      <th>x-bar</th>\n",
       "      <th>y-bar</th>\n",
       "      <th>x2bar</th>\n",
       "      <th>y2bar</th>\n",
       "      <th>xybar</th>\n",
       "      <th>x2ybr</th>\n",
       "      <th>xy2br</th>\n",
       "      <th>x-ege</th>\n",
       "      <th>xegvy</th>\n",
       "      <th>y-ege</th>\n",
       "      <th>yegvx</th>\n",
       "    </tr>\n",
       "  </thead>\n",
       "  <tbody>\n",
       "    <tr>\n",
       "      <th>0</th>\n",
       "      <td>T</td>\n",
       "      <td>2</td>\n",
       "      <td>8</td>\n",
       "      <td>3</td>\n",
       "      <td>5</td>\n",
       "      <td>1</td>\n",
       "      <td>8</td>\n",
       "      <td>13</td>\n",
       "      <td>0</td>\n",
       "      <td>6</td>\n",
       "      <td>6</td>\n",
       "      <td>10</td>\n",
       "      <td>8</td>\n",
       "      <td>0</td>\n",
       "      <td>8</td>\n",
       "      <td>0</td>\n",
       "      <td>8</td>\n",
       "    </tr>\n",
       "    <tr>\n",
       "      <th>1</th>\n",
       "      <td>I</td>\n",
       "      <td>5</td>\n",
       "      <td>12</td>\n",
       "      <td>3</td>\n",
       "      <td>7</td>\n",
       "      <td>2</td>\n",
       "      <td>10</td>\n",
       "      <td>5</td>\n",
       "      <td>5</td>\n",
       "      <td>4</td>\n",
       "      <td>13</td>\n",
       "      <td>3</td>\n",
       "      <td>9</td>\n",
       "      <td>2</td>\n",
       "      <td>8</td>\n",
       "      <td>4</td>\n",
       "      <td>10</td>\n",
       "    </tr>\n",
       "    <tr>\n",
       "      <th>2</th>\n",
       "      <td>D</td>\n",
       "      <td>4</td>\n",
       "      <td>11</td>\n",
       "      <td>6</td>\n",
       "      <td>8</td>\n",
       "      <td>6</td>\n",
       "      <td>10</td>\n",
       "      <td>6</td>\n",
       "      <td>2</td>\n",
       "      <td>6</td>\n",
       "      <td>10</td>\n",
       "      <td>3</td>\n",
       "      <td>7</td>\n",
       "      <td>3</td>\n",
       "      <td>7</td>\n",
       "      <td>3</td>\n",
       "      <td>9</td>\n",
       "    </tr>\n",
       "    <tr>\n",
       "      <th>3</th>\n",
       "      <td>N</td>\n",
       "      <td>7</td>\n",
       "      <td>11</td>\n",
       "      <td>6</td>\n",
       "      <td>6</td>\n",
       "      <td>3</td>\n",
       "      <td>5</td>\n",
       "      <td>9</td>\n",
       "      <td>4</td>\n",
       "      <td>6</td>\n",
       "      <td>4</td>\n",
       "      <td>4</td>\n",
       "      <td>10</td>\n",
       "      <td>6</td>\n",
       "      <td>10</td>\n",
       "      <td>2</td>\n",
       "      <td>8</td>\n",
       "    </tr>\n",
       "    <tr>\n",
       "      <th>4</th>\n",
       "      <td>G</td>\n",
       "      <td>2</td>\n",
       "      <td>1</td>\n",
       "      <td>3</td>\n",
       "      <td>1</td>\n",
       "      <td>1</td>\n",
       "      <td>8</td>\n",
       "      <td>6</td>\n",
       "      <td>6</td>\n",
       "      <td>6</td>\n",
       "      <td>6</td>\n",
       "      <td>5</td>\n",
       "      <td>9</td>\n",
       "      <td>1</td>\n",
       "      <td>7</td>\n",
       "      <td>5</td>\n",
       "      <td>10</td>\n",
       "    </tr>\n",
       "  </tbody>\n",
       "</table>\n",
       "</div>"
      ],
      "text/plain": [
       "  letter  x-box  y-box  width  high  onpix  x-bar  y-bar  x2bar  y2bar  xybar  \\\n",
       "0      T      2      8      3     5      1      8     13      0      6      6   \n",
       "1      I      5     12      3     7      2     10      5      5      4     13   \n",
       "2      D      4     11      6     8      6     10      6      2      6     10   \n",
       "3      N      7     11      6     6      3      5      9      4      6      4   \n",
       "4      G      2      1      3     1      1      8      6      6      6      6   \n",
       "\n",
       "   x2ybr  xy2br  x-ege  xegvy  y-ege  yegvx  \n",
       "0     10      8      0      8      0      8  \n",
       "1      3      9      2      8      4     10  \n",
       "2      3      7      3      7      3      9  \n",
       "3      4     10      6     10      2      8  \n",
       "4      5      9      1      7      5     10  "
      ]
     },
     "execution_count": 2,
     "metadata": {},
     "output_type": "execute_result"
    }
   ],
   "source": [
    "# Load data\n",
    "dataSet = pd.read_csv(\"data\\letter-recognition.data\", names=[\"letter\", \"x-box\", \"y-box\", \"width\", \"high\", \"onpix\", \"x-bar\", \"y-bar\", \"x2bar\", \"y2bar\", \"xybar\", \"x2ybr\", \"xy2br\", \"x-ege\", \"xegvy\", \"y-ege\", \"yegvx\"])\n",
    "dataSet.head()"
   ]
  },
  {
   "cell_type": "code",
   "execution_count": 3,
   "metadata": {},
   "outputs": [
    {
     "name": "stdout",
     "output_type": "stream",
     "text": [
      "<class 'pandas.core.frame.DataFrame'>\n",
      "RangeIndex: 20000 entries, 0 to 19999\n",
      "Data columns (total 17 columns):\n",
      " #   Column  Non-Null Count  Dtype \n",
      "---  ------  --------------  ----- \n",
      " 0   letter  20000 non-null  object\n",
      " 1   x-box   20000 non-null  int64 \n",
      " 2   y-box   20000 non-null  int64 \n",
      " 3   width   20000 non-null  int64 \n",
      " 4   high    20000 non-null  int64 \n",
      " 5   onpix   20000 non-null  int64 \n",
      " 6   x-bar   20000 non-null  int64 \n",
      " 7   y-bar   20000 non-null  int64 \n",
      " 8   x2bar   20000 non-null  int64 \n",
      " 9   y2bar   20000 non-null  int64 \n",
      " 10  xybar   20000 non-null  int64 \n",
      " 11  x2ybr   20000 non-null  int64 \n",
      " 12  xy2br   20000 non-null  int64 \n",
      " 13  x-ege   20000 non-null  int64 \n",
      " 14  xegvy   20000 non-null  int64 \n",
      " 15  y-ege   20000 non-null  int64 \n",
      " 16  yegvx   20000 non-null  int64 \n",
      "dtypes: int64(16), object(1)\n",
      "memory usage: 2.6+ MB\n"
     ]
    }
   ],
   "source": [
    "# Data frame info\n",
    "dataSet.info()"
   ]
  },
  {
   "cell_type": "code",
   "execution_count": 4,
   "metadata": {},
   "outputs": [
    {
     "data": {
      "text/plain": [
       "array(['T', 'I', 'D', 'N', 'G', 'S', 'B', 'A', 'J', 'M', 'X', 'O', 'R',\n",
       "       'F', 'C', 'H', 'W', 'L', 'P', 'E', 'V', 'Y', 'Q', 'U', 'K', 'Z'],\n",
       "      dtype=object)"
      ]
     },
     "execution_count": 4,
     "metadata": {},
     "output_type": "execute_result"
    }
   ],
   "source": [
    "# Look at 'letter' attribute because it has type 'object'\n",
    "dataSet.letter.unique()"
   ]
  },
  {
   "cell_type": "code",
   "execution_count": 5,
   "metadata": {
    "scrolled": false
   },
   "outputs": [
    {
     "name": "stdout",
     "output_type": "stream",
     "text": [
      "<class 'pandas.core.frame.DataFrame'>\n",
      "RangeIndex: 20000 entries, 0 to 19999\n",
      "Data columns (total 17 columns):\n",
      " #   Column  Non-Null Count  Dtype   \n",
      "---  ------  --------------  -----   \n",
      " 0   letter  20000 non-null  category\n",
      " 1   x-box   20000 non-null  int64   \n",
      " 2   y-box   20000 non-null  int64   \n",
      " 3   width   20000 non-null  int64   \n",
      " 4   high    20000 non-null  int64   \n",
      " 5   onpix   20000 non-null  int64   \n",
      " 6   x-bar   20000 non-null  int64   \n",
      " 7   y-bar   20000 non-null  int64   \n",
      " 8   x2bar   20000 non-null  int64   \n",
      " 9   y2bar   20000 non-null  int64   \n",
      " 10  xybar   20000 non-null  int64   \n",
      " 11  x2ybr   20000 non-null  int64   \n",
      " 12  xy2br   20000 non-null  int64   \n",
      " 13  x-ege   20000 non-null  int64   \n",
      " 14  xegvy   20000 non-null  int64   \n",
      " 15  y-ege   20000 non-null  int64   \n",
      " 16  yegvx   20000 non-null  int64   \n",
      "dtypes: category(1), int64(16)\n",
      "memory usage: 2.5 MB\n"
     ]
    }
   ],
   "source": [
    "# Make it as category variable\n",
    "dataSet.letter = dataSet.letter.astype(\"category\")\n",
    "dataSet.info()"
   ]
  },
  {
   "cell_type": "code",
   "execution_count": 6,
   "metadata": {},
   "outputs": [],
   "source": [
    "def Standarize(data):\n",
    "    mean = data.mean()\n",
    "    standardDeviation = data.std()\n",
    "    return (data - mean) / standardDeviation"
   ]
  },
  {
   "cell_type": "code",
   "execution_count": 7,
   "metadata": {},
   "outputs": [],
   "source": [
    "def Normalize(data):\n",
    "    return (data - data.min()) / (data.max() - data.min())"
   ]
  },
  {
   "cell_type": "code",
   "execution_count": 8,
   "metadata": {},
   "outputs": [],
   "source": [
    "# Divide data due to target variable\n",
    "xOriginal = dataSet.iloc[:, 1:]\n",
    "yOriginal = dataSet.letter"
   ]
  },
  {
   "cell_type": "code",
   "execution_count": 9,
   "metadata": {},
   "outputs": [],
   "source": [
    "# Split data into train and test sets\n",
    "import sklearn.model_selection\n",
    "\n",
    "indexTrain, indexTest = sklearn.model_selection.train_test_split(np.arange(xOriginal.shape[0]), test_size=0.2, random_state=0)\n",
    "xTrain, xTest = xOriginal.iloc[indexTrain, :], xOriginal.iloc[indexTest, :]\n",
    "yTrain, yTest = yOriginal[indexTrain], yOriginal[indexTest]"
   ]
  },
  {
   "cell_type": "code",
   "execution_count": 10,
   "metadata": {},
   "outputs": [],
   "source": [
    "# Function that compute classifier's score\n",
    "import sklearn.metrics\n",
    "\n",
    "def ClassifierScore(alg, xTrain, xTest, yTrain, yTest):\n",
    "    alg.fit(xTrain, yTrain)\n",
    "    yTrainPred = alg.predict(xTrain)\n",
    "    yTestPred = alg.predict(xTest)\n",
    "    return {\n",
    "        \"Accuracy_Train\": sklearn.metrics.accuracy_score(yTrainPred, yTrain),\n",
    "        \"Accuracy_Test\": sklearn.metrics.accuracy_score(yTestPred, yTest),\n",
    "        \"Precision_Train\":   sklearn.metrics.precision_score(yTrainPred, yTrain, average='macro'),\n",
    "        \"Precision_Test\":   sklearn.metrics.precision_score(yTestPred, yTest, average='macro'),\n",
    "        \"Recall_Train\":   sklearn.metrics.recall_score(yTrainPred, yTrain, average='macro'),\n",
    "        \"Recall_Test\":   sklearn.metrics.recall_score(yTestPred, yTest, average='macro'),\n",
    "        \"F1_Train\":  sklearn.metrics.f1_score(yTrainPred, yTrain, average='macro'),\n",
    "        \"F1_Test\":  sklearn.metrics.f1_score(yTestPred, yTest, average='macro')\n",
    "    }"
   ]
  },
  {
   "cell_type": "markdown",
   "metadata": {},
   "source": [
    "### K-Nearest Neighbors algorithm"
   ]
  },
  {
   "cell_type": "code",
   "execution_count": 11,
   "metadata": {},
   "outputs": [
    {
     "data": {
      "text/html": [
       "<div>\n",
       "<style scoped>\n",
       "    .dataframe tbody tr th:only-of-type {\n",
       "        vertical-align: middle;\n",
       "    }\n",
       "\n",
       "    .dataframe tbody tr th {\n",
       "        vertical-align: top;\n",
       "    }\n",
       "\n",
       "    .dataframe thead th {\n",
       "        text-align: right;\n",
       "    }\n",
       "</style>\n",
       "<table border=\"1\" class=\"dataframe\">\n",
       "  <thead>\n",
       "    <tr style=\"text-align: right;\">\n",
       "      <th></th>\n",
       "      <th>Accuracy_Test</th>\n",
       "      <th>Accuracy_Train</th>\n",
       "      <th>F1_Test</th>\n",
       "      <th>F1_Train</th>\n",
       "      <th>Precision_Test</th>\n",
       "      <th>Precision_Train</th>\n",
       "      <th>Recall_Test</th>\n",
       "      <th>Recall_Train</th>\n",
       "    </tr>\n",
       "  </thead>\n",
       "  <tbody>\n",
       "    <tr>\n",
       "      <th>kNeighbors</th>\n",
       "      <td>0.95975</td>\n",
       "      <td>0.975688</td>\n",
       "      <td>0.959358</td>\n",
       "      <td>0.975644</td>\n",
       "      <td>0.959405</td>\n",
       "      <td>0.975606</td>\n",
       "      <td>0.959618</td>\n",
       "      <td>0.975804</td>\n",
       "    </tr>\n",
       "  </tbody>\n",
       "</table>\n",
       "</div>"
      ],
      "text/plain": [
       "            Accuracy_Test  Accuracy_Train   F1_Test  F1_Train  Precision_Test  \\\n",
       "kNeighbors        0.95975        0.975688  0.959358  0.975644        0.959405   \n",
       "\n",
       "            Precision_Train  Recall_Test  Recall_Train  \n",
       "kNeighbors         0.975606     0.959618      0.975804  "
      ]
     },
     "execution_count": 11,
     "metadata": {},
     "output_type": "execute_result"
    }
   ],
   "source": [
    "# Original values\n",
    "import sklearn.neighbors\n",
    "\n",
    "score = pd.DataFrame({'kNeighbors_Original': ClassifierScore(sklearn.neighbors.KNeighborsClassifier(), xTrain, xTest, yTrain, yTest)}).T\n",
    "score"
   ]
  },
  {
   "cell_type": "code",
   "execution_count": 12,
   "metadata": {},
   "outputs": [
    {
     "data": {
      "text/html": [
       "<div>\n",
       "<style scoped>\n",
       "    .dataframe tbody tr th:only-of-type {\n",
       "        vertical-align: middle;\n",
       "    }\n",
       "\n",
       "    .dataframe tbody tr th {\n",
       "        vertical-align: top;\n",
       "    }\n",
       "\n",
       "    .dataframe thead th {\n",
       "        text-align: right;\n",
       "    }\n",
       "</style>\n",
       "<table border=\"1\" class=\"dataframe\">\n",
       "  <thead>\n",
       "    <tr style=\"text-align: right;\">\n",
       "      <th></th>\n",
       "      <th>Accuracy_Test</th>\n",
       "      <th>Accuracy_Train</th>\n",
       "      <th>F1_Test</th>\n",
       "      <th>F1_Train</th>\n",
       "      <th>Precision_Test</th>\n",
       "      <th>Precision_Train</th>\n",
       "      <th>Recall_Test</th>\n",
       "      <th>Recall_Train</th>\n",
       "    </tr>\n",
       "  </thead>\n",
       "  <tbody>\n",
       "    <tr>\n",
       "      <th>kNeighbors</th>\n",
       "      <td>0.95975</td>\n",
       "      <td>0.975688</td>\n",
       "      <td>0.959358</td>\n",
       "      <td>0.975644</td>\n",
       "      <td>0.959405</td>\n",
       "      <td>0.975606</td>\n",
       "      <td>0.959618</td>\n",
       "      <td>0.975804</td>\n",
       "    </tr>\n",
       "    <tr>\n",
       "      <th>kNeighbors_Standarized</th>\n",
       "      <td>0.95275</td>\n",
       "      <td>0.971812</td>\n",
       "      <td>0.952854</td>\n",
       "      <td>0.971784</td>\n",
       "      <td>0.952836</td>\n",
       "      <td>0.971742</td>\n",
       "      <td>0.953275</td>\n",
       "      <td>0.971984</td>\n",
       "    </tr>\n",
       "  </tbody>\n",
       "</table>\n",
       "</div>"
      ],
      "text/plain": [
       "                        Accuracy_Test  Accuracy_Train   F1_Test  F1_Train  \\\n",
       "kNeighbors                    0.95975        0.975688  0.959358  0.975644   \n",
       "kNeighbors_Standarized        0.95275        0.971812  0.952854  0.971784   \n",
       "\n",
       "                        Precision_Test  Precision_Train  Recall_Test  \\\n",
       "kNeighbors                    0.959405         0.975606     0.959618   \n",
       "kNeighbors_Standarized        0.952836         0.971742     0.953275   \n",
       "\n",
       "                        Recall_Train  \n",
       "kNeighbors                  0.975804  \n",
       "kNeighbors_Standarized      0.971984  "
      ]
     },
     "execution_count": 12,
     "metadata": {},
     "output_type": "execute_result"
    }
   ],
   "source": [
    "# Standarized values\n",
    "score = score.append(pd.DataFrame({'kNeighbors_Standarized': ClassifierScore(sklearn.neighbors.KNeighborsClassifier(), Standarize(xTrain), Standarize(xTest), yTrain, yTest)}).T)\n",
    "score"
   ]
  },
  {
   "cell_type": "code",
   "execution_count": 13,
   "metadata": {
    "scrolled": true
   },
   "outputs": [
    {
     "data": {
      "text/html": [
       "<div>\n",
       "<style scoped>\n",
       "    .dataframe tbody tr th:only-of-type {\n",
       "        vertical-align: middle;\n",
       "    }\n",
       "\n",
       "    .dataframe tbody tr th {\n",
       "        vertical-align: top;\n",
       "    }\n",
       "\n",
       "    .dataframe thead th {\n",
       "        text-align: right;\n",
       "    }\n",
       "</style>\n",
       "<table border=\"1\" class=\"dataframe\">\n",
       "  <thead>\n",
       "    <tr style=\"text-align: right;\">\n",
       "      <th></th>\n",
       "      <th>Accuracy_Test</th>\n",
       "      <th>Accuracy_Train</th>\n",
       "      <th>F1_Test</th>\n",
       "      <th>F1_Train</th>\n",
       "      <th>Precision_Test</th>\n",
       "      <th>Precision_Train</th>\n",
       "      <th>Recall_Test</th>\n",
       "      <th>Recall_Train</th>\n",
       "    </tr>\n",
       "  </thead>\n",
       "  <tbody>\n",
       "    <tr>\n",
       "      <th>kNeighbors</th>\n",
       "      <td>0.95975</td>\n",
       "      <td>0.975688</td>\n",
       "      <td>0.959358</td>\n",
       "      <td>0.975644</td>\n",
       "      <td>0.959405</td>\n",
       "      <td>0.975606</td>\n",
       "      <td>0.959618</td>\n",
       "      <td>0.975804</td>\n",
       "    </tr>\n",
       "    <tr>\n",
       "      <th>kNeighbors_Standarized</th>\n",
       "      <td>0.95275</td>\n",
       "      <td>0.971812</td>\n",
       "      <td>0.952854</td>\n",
       "      <td>0.971784</td>\n",
       "      <td>0.952836</td>\n",
       "      <td>0.971742</td>\n",
       "      <td>0.953275</td>\n",
       "      <td>0.971984</td>\n",
       "    </tr>\n",
       "    <tr>\n",
       "      <th>kNeighbors_Normalized</th>\n",
       "      <td>0.94900</td>\n",
       "      <td>0.975000</td>\n",
       "      <td>0.948639</td>\n",
       "      <td>0.974960</td>\n",
       "      <td>0.948899</td>\n",
       "      <td>0.974927</td>\n",
       "      <td>0.949000</td>\n",
       "      <td>0.975123</td>\n",
       "    </tr>\n",
       "  </tbody>\n",
       "</table>\n",
       "</div>"
      ],
      "text/plain": [
       "                        Accuracy_Test  Accuracy_Train   F1_Test  F1_Train  \\\n",
       "kNeighbors                    0.95975        0.975688  0.959358  0.975644   \n",
       "kNeighbors_Standarized        0.95275        0.971812  0.952854  0.971784   \n",
       "kNeighbors_Normalized         0.94900        0.975000  0.948639  0.974960   \n",
       "\n",
       "                        Precision_Test  Precision_Train  Recall_Test  \\\n",
       "kNeighbors                    0.959405         0.975606     0.959618   \n",
       "kNeighbors_Standarized        0.952836         0.971742     0.953275   \n",
       "kNeighbors_Normalized         0.948899         0.974927     0.949000   \n",
       "\n",
       "                        Recall_Train  \n",
       "kNeighbors                  0.975804  \n",
       "kNeighbors_Standarized      0.971984  \n",
       "kNeighbors_Normalized       0.975123  "
      ]
     },
     "execution_count": 13,
     "metadata": {},
     "output_type": "execute_result"
    }
   ],
   "source": [
    "# Normalized values\n",
    "score = score.append(pd.DataFrame({'kNeighbors_Normalized': ClassifierScore(sklearn.neighbors.KNeighborsClassifier(), Normalize(xTrain), Normalize(xTest), yTrain, yTest)}).T)\n",
    "score"
   ]
  },
  {
   "cell_type": "markdown",
   "metadata": {},
   "source": [
    "Best results for KNN classifier are for original data. The similarity of results may exist because authors of this data set mention about scaling all attributes to range from 0 to 15."
   ]
  },
  {
   "cell_type": "code",
   "execution_count": 14,
   "metadata": {},
   "outputs": [],
   "source": [
    "# Check what number of neighbours will be most efficient\n",
    "trainAccuracy = list()\n",
    "testAccuracy = list()\n",
    "\n",
    "for index in range(1, 30):\n",
    "    kNeighborsClass = sklearn.neighbors.KNeighborsClassifier(n_neighbors=index, n_jobs=-1)\n",
    "    kNeighborsClass.fit(xTrain, yTrain)\n",
    "    yTrainClass = kNeighborsClass.predict(xTrain)\n",
    "    yTestClass = kNeighborsClass.predict(xTest)\n",
    "    \n",
    "    trainAccuracy.append(sklearn.metrics.accuracy_score(yTrainClass, yTrain))    \n",
    "    testAccuracy.append(sklearn.metrics.accuracy_score(yTestClass, yTest))"
   ]
  },
  {
   "cell_type": "code",
   "execution_count": 15,
   "metadata": {
    "scrolled": false
   },
   "outputs": [
    {
     "data": {
      "image/png": "[encoded data removed]",
      "text/plain": [
       "<Figure size 720x432 with 1 Axes>"
      ]
     },
     "metadata": {
      "needs_background": "light"
     },
     "output_type": "display_data"
    }
   ],
   "source": [
    "# Chart of results\n",
    "plt.figure(figsize=(10,6))\n",
    "plt.plot(trainAccuracy, label=\"Train\")\n",
    "plt.plot(testAccuracy, label=\"Test\")\n",
    "plt.xlabel(\"Number of neighbours\")\n",
    "plt.ylabel(\"Accuracy\")\n",
    "plt.title(\"Accuracy of model due to the number of neighbours in the KNN algorithm for raw dataset\")\n",
    "plt.legend(bbox_to_anchor=(0.8, 0.9), loc='upper left')\n",
    "plt.show()"
   ]
  },
  {
   "cell_type": "code",
   "execution_count": 17,
   "metadata": {},
   "outputs": [],
   "source": [
    "# Preparaton to grid search to find out which settings are best for my model\n",
    "from sklearn.model_selection import GridSearchCV\n",
    "from sklearn.metrics import accuracy_score\n",
    "\n",
    "gridSearchParameters = [\n",
    "  {'weights': ['uniform', 'distance'],\n",
    "   'p': [1, 2],\n",
    "   'algorithm': ['auto', 'ball_tree', 'kd_tree', 'brute'],\n",
    "   'n_neighbors': [17, 18, 19, 20]}\n",
    " ]\n",
    "\n",
    "scorer = {'acc': 'accuracy', 'f1': 'f1_macro', 'prec': 'precision_macro', 'rec': 'recall_macro'}"
   ]
  },
  {
   "cell_type": "code",
   "execution_count": 20,
   "metadata": {},
   "outputs": [
    {
     "data": {
      "text/plain": [
       "GridSearchCV(cv=10, error_score=nan,\n",
       "             estimator=KNeighborsClassifier(algorithm='auto', leaf_size=30,\n",
       "                                            metric='minkowski',\n",
       "                                            metric_params=None, n_jobs=None,\n",
       "                                            n_neighbors=5, p=2,\n",
       "                                            weights='uniform'),\n",
       "             iid='deprecated', n_jobs=-1,\n",
       "             param_grid=[{'algorithm': ['auto', 'ball_tree', 'kd_tree',\n",
       "                                        'brute'],\n",
       "                          'n_neighbors': [17, 18, 19, 20], 'p': [1, 2],\n",
       "                          'weights': ['uniform', 'distance']}],\n",
       "             pre_dispatch='2*n_jobs', refit='acc', return_train_score=False,\n",
       "             scoring={'acc': 'accuracy', 'f1': 'f1_macro',\n",
       "                      'prec': 'precision_macro', 'rec': 'recall_macro'},\n",
       "             verbose=0)"
      ]
     },
     "execution_count": 20,
     "metadata": {},
     "output_type": "execute_result"
    }
   ],
   "source": [
    "# Build grid search\n",
    "gridSearch = GridSearchCV(estimator=sklearn.neighbors.KNeighborsClassifier(), param_grid=gridSearchParameters, scoring=scorer, n_jobs=-1, refit='acc', cv=10)\n",
    "\n",
    "gridSearch.fit(xOriginal, yOriginal)"
   ]
  },
  {
   "cell_type": "code",
   "execution_count": 21,
   "metadata": {},
   "outputs": [
    {
     "name": "stdout",
     "output_type": "stream",
     "text": [
      "Estimator\n",
      "KNeighborsClassifier(algorithm='brute', leaf_size=30, metric='minkowski',\n",
      "                     metric_params=None, n_jobs=None, n_neighbors=17, p=1,\n",
      "                     weights='distance')\n",
      "Params\n",
      "{'algorithm': 'brute', 'n_neighbors': 17, 'p': 1, 'weights': 'distance'}\n",
      "Score\n",
      "0.95505\n"
     ]
    }
   ],
   "source": [
    "print (\"Estimator\")\n",
    "print (gridSearch.best_estimator_)\n",
    "print (\"Params\")\n",
    "print (gridSearch.best_params_)\n",
    "print (\"Score\")\n",
    "print (gridSearch.best_score_)"
   ]
  },
  {
   "cell_type": "code",
   "execution_count": 22,
   "metadata": {},
   "outputs": [
    {
     "data": {
      "text/html": [
       "<div>\n",
       "<style scoped>\n",
       "    .dataframe tbody tr th:only-of-type {\n",
       "        vertical-align: middle;\n",
       "    }\n",
       "\n",
       "    .dataframe tbody tr th {\n",
       "        vertical-align: top;\n",
       "    }\n",
       "\n",
       "    .dataframe thead th {\n",
       "        text-align: right;\n",
       "    }\n",
       "</style>\n",
       "<table border=\"1\" class=\"dataframe\">\n",
       "  <thead>\n",
       "    <tr style=\"text-align: right;\">\n",
       "      <th></th>\n",
       "      <th>Accuracy_Test</th>\n",
       "      <th>Accuracy_Train</th>\n",
       "      <th>F1_Test</th>\n",
       "      <th>F1_Train</th>\n",
       "      <th>Precision_Test</th>\n",
       "      <th>Precision_Train</th>\n",
       "      <th>Recall_Test</th>\n",
       "      <th>Recall_Train</th>\n",
       "    </tr>\n",
       "  </thead>\n",
       "  <tbody>\n",
       "    <tr>\n",
       "      <th>kNeighbors</th>\n",
       "      <td>0.95975</td>\n",
       "      <td>0.975688</td>\n",
       "      <td>0.959358</td>\n",
       "      <td>0.975644</td>\n",
       "      <td>0.959405</td>\n",
       "      <td>0.975606</td>\n",
       "      <td>0.959618</td>\n",
       "      <td>0.975804</td>\n",
       "    </tr>\n",
       "    <tr>\n",
       "      <th>kNeighbors_Standarized</th>\n",
       "      <td>0.95275</td>\n",
       "      <td>0.971812</td>\n",
       "      <td>0.952854</td>\n",
       "      <td>0.971784</td>\n",
       "      <td>0.952836</td>\n",
       "      <td>0.971742</td>\n",
       "      <td>0.953275</td>\n",
       "      <td>0.971984</td>\n",
       "    </tr>\n",
       "    <tr>\n",
       "      <th>kNeighbors_Normalized</th>\n",
       "      <td>0.94900</td>\n",
       "      <td>0.975000</td>\n",
       "      <td>0.948639</td>\n",
       "      <td>0.974960</td>\n",
       "      <td>0.948899</td>\n",
       "      <td>0.974927</td>\n",
       "      <td>0.949000</td>\n",
       "      <td>0.975123</td>\n",
       "    </tr>\n",
       "    <tr>\n",
       "      <th>kNeighbors_GridSearch</th>\n",
       "      <td>0.96150</td>\n",
       "      <td>1.000000</td>\n",
       "      <td>0.961387</td>\n",
       "      <td>1.000000</td>\n",
       "      <td>0.961340</td>\n",
       "      <td>1.000000</td>\n",
       "      <td>0.961921</td>\n",
       "      <td>1.000000</td>\n",
       "    </tr>\n",
       "  </tbody>\n",
       "</table>\n",
       "</div>"
      ],
      "text/plain": [
       "                        Accuracy_Test  Accuracy_Train   F1_Test  F1_Train  \\\n",
       "kNeighbors                    0.95975        0.975688  0.959358  0.975644   \n",
       "kNeighbors_Standarized        0.95275        0.971812  0.952854  0.971784   \n",
       "kNeighbors_Normalized         0.94900        0.975000  0.948639  0.974960   \n",
       "kNeighbors_GridSearch         0.96150        1.000000  0.961387  1.000000   \n",
       "\n",
       "                        Precision_Test  Precision_Train  Recall_Test  \\\n",
       "kNeighbors                    0.959405         0.975606     0.959618   \n",
       "kNeighbors_Standarized        0.952836         0.971742     0.953275   \n",
       "kNeighbors_Normalized         0.948899         0.974927     0.949000   \n",
       "kNeighbors_GridSearch         0.961340         1.000000     0.961921   \n",
       "\n",
       "                        Recall_Train  \n",
       "kNeighbors                  0.975804  \n",
       "kNeighbors_Standarized      0.971984  \n",
       "kNeighbors_Normalized       0.975123  \n",
       "kNeighbors_GridSearch       1.000000  "
      ]
     },
     "execution_count": 22,
     "metadata": {},
     "output_type": "execute_result"
    }
   ],
   "source": [
    "# GridSearch result score\n",
    "score = score.append(pd.DataFrame({'kNeighbors_GridSearch': ClassifierScore(sklearn.neighbors.KNeighborsClassifier(algorithm='brute', leaf_size=30, metric='minkowski', metric_params=None, n_jobs=None, n_neighbors=17, p=1, weights='distance'), xTrain, xTest, yTrain, yTest)}).T)\n",
    "score"
   ]
  }
 ],
 "metadata": {
  "kernelspec": {
   "display_name": "Python 3",
   "language": "python",
   "name": "python3"
  },
  "language_info": {
   "codemirror_mode": {
    "name": "ipython",
    "version": 3
   },
   "file_extension": ".py",
   "mimetype": "text/x-python",
   "name": "python",
   "nbconvert_exporter": "python",
   "pygments_lexer": "ipython3",
   "version": "3.7.7"
  }
 },
 "nbformat": 4,
 "nbformat_minor": 4
}
